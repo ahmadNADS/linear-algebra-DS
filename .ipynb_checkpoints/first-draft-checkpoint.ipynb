{
 "cells": [
  {
   "cell_type": "markdown",
   "id": "aae87a96",
   "metadata": {},
   "source": [
    "# <div align=\"right\">  الجبر الخطي و علم البيانات</div> "
   ]
  },
  {
   "cell_type": "markdown",
   "id": "7101cb60",
   "metadata": {},
   "source": [
    "### <div align = \"right\"> :مقدمة </div>"
   ]
  },
  {
   "cell_type": "markdown",
   "id": "3eed0bed",
   "metadata": {},
   "source": [
    "<div align = \"right\">  في هذه المدونة سوف اقوم بشرح الجبر الخطي و كيف يتم تطبيقه في علم البيانات. بما يلي هي الاهداف\\المعلومات التي أتمنى أن تفهموها من هذه القطعة</div>"
   ]
  }
 ],
 "metadata": {
  "kernelspec": {
   "display_name": "Python 3 (ipykernel)",
   "language": "python",
   "name": "python3"
  },
  "language_info": {
   "codemirror_mode": {
    "name": "ipython",
    "version": 3
   },
   "file_extension": ".py",
   "mimetype": "text/x-python",
   "name": "python",
   "nbconvert_exporter": "python",
   "pygments_lexer": "ipython3",
   "version": "3.9.15"
  }
 },
 "nbformat": 4,
 "nbformat_minor": 5
}
